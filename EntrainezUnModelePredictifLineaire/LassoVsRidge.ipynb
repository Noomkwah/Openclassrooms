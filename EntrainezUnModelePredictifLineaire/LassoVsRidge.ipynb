{
 "cells": [
  {
   "cell_type": "markdown",
   "id": "a09b8578",
   "metadata": {},
   "source": [
    "# LASSO vs RIDGE"
   ]
  },
  {
   "cell_type": "markdown",
   "id": "083e2471",
   "metadata": {},
   "source": [
    "On s'occupe dans un premier temps de récupérer les données, puis on entraîne des régressions linéaires simple, ridge, et lasso. Le but est de comparer leurs résultats."
   ]
  },
  {
   "cell_type": "markdown",
   "id": "9d2dcf95",
   "metadata": {},
   "source": [
    "## Récupération et traitement des données"
   ]
  },
  {
   "cell_type": "code",
   "execution_count": 1,
   "id": "f775de43",
   "metadata": {},
   "outputs": [],
   "source": [
    "import pandas as pd\n",
    "import numpy as np"
   ]
  },
  {
   "cell_type": "code",
   "execution_count": 108,
   "id": "256e9f7c",
   "metadata": {},
   "outputs": [
    {
     "data": {
      "text/html": [
       "<div>\n",
       "<style scoped>\n",
       "    .dataframe tbody tr th:only-of-type {\n",
       "        vertical-align: middle;\n",
       "    }\n",
       "\n",
       "    .dataframe tbody tr th {\n",
       "        vertical-align: top;\n",
       "    }\n",
       "\n",
       "    .dataframe thead th {\n",
       "        text-align: right;\n",
       "    }\n",
       "</style>\n",
       "<table border=\"1\" class=\"dataframe\">\n",
       "  <thead>\n",
       "    <tr style=\"text-align: right;\">\n",
       "      <th></th>\n",
       "      <th>lcavol</th>\n",
       "      <th>lweight</th>\n",
       "      <th>age</th>\n",
       "      <th>lbph</th>\n",
       "      <th>svi</th>\n",
       "      <th>lcp</th>\n",
       "      <th>gleason</th>\n",
       "      <th>pgg45</th>\n",
       "      <th>lpsa</th>\n",
       "      <th>train</th>\n",
       "    </tr>\n",
       "    <tr>\n",
       "      <th>col</th>\n",
       "      <th></th>\n",
       "      <th></th>\n",
       "      <th></th>\n",
       "      <th></th>\n",
       "      <th></th>\n",
       "      <th></th>\n",
       "      <th></th>\n",
       "      <th></th>\n",
       "      <th></th>\n",
       "      <th></th>\n",
       "    </tr>\n",
       "  </thead>\n",
       "  <tbody>\n",
       "    <tr>\n",
       "      <th>1</th>\n",
       "      <td>-0.579818</td>\n",
       "      <td>2.769459</td>\n",
       "      <td>50</td>\n",
       "      <td>-1.386294</td>\n",
       "      <td>0</td>\n",
       "      <td>-1.386294</td>\n",
       "      <td>6</td>\n",
       "      <td>0</td>\n",
       "      <td>-0.430783</td>\n",
       "      <td>T</td>\n",
       "    </tr>\n",
       "    <tr>\n",
       "      <th>2</th>\n",
       "      <td>-0.994252</td>\n",
       "      <td>3.319626</td>\n",
       "      <td>58</td>\n",
       "      <td>-1.386294</td>\n",
       "      <td>0</td>\n",
       "      <td>-1.386294</td>\n",
       "      <td>6</td>\n",
       "      <td>0</td>\n",
       "      <td>-0.162519</td>\n",
       "      <td>T</td>\n",
       "    </tr>\n",
       "    <tr>\n",
       "      <th>3</th>\n",
       "      <td>-0.510826</td>\n",
       "      <td>2.691243</td>\n",
       "      <td>74</td>\n",
       "      <td>-1.386294</td>\n",
       "      <td>0</td>\n",
       "      <td>-1.386294</td>\n",
       "      <td>7</td>\n",
       "      <td>20</td>\n",
       "      <td>-0.162519</td>\n",
       "      <td>T</td>\n",
       "    </tr>\n",
       "    <tr>\n",
       "      <th>4</th>\n",
       "      <td>-1.203973</td>\n",
       "      <td>3.282789</td>\n",
       "      <td>58</td>\n",
       "      <td>-1.386294</td>\n",
       "      <td>0</td>\n",
       "      <td>-1.386294</td>\n",
       "      <td>6</td>\n",
       "      <td>0</td>\n",
       "      <td>-0.162519</td>\n",
       "      <td>T</td>\n",
       "    </tr>\n",
       "    <tr>\n",
       "      <th>5</th>\n",
       "      <td>0.751416</td>\n",
       "      <td>3.432373</td>\n",
       "      <td>62</td>\n",
       "      <td>-1.386294</td>\n",
       "      <td>0</td>\n",
       "      <td>-1.386294</td>\n",
       "      <td>6</td>\n",
       "      <td>0</td>\n",
       "      <td>0.371564</td>\n",
       "      <td>T</td>\n",
       "    </tr>\n",
       "  </tbody>\n",
       "</table>\n",
       "</div>"
      ],
      "text/plain": [
       "       lcavol   lweight  age      lbph  svi       lcp  gleason  pgg45  \\\n",
       "col                                                                     \n",
       "1   -0.579818  2.769459   50 -1.386294    0 -1.386294        6      0   \n",
       "2   -0.994252  3.319626   58 -1.386294    0 -1.386294        6      0   \n",
       "3   -0.510826  2.691243   74 -1.386294    0 -1.386294        7     20   \n",
       "4   -1.203973  3.282789   58 -1.386294    0 -1.386294        6      0   \n",
       "5    0.751416  3.432373   62 -1.386294    0 -1.386294        6      0   \n",
       "\n",
       "         lpsa train  \n",
       "col                  \n",
       "1   -0.430783     T  \n",
       "2   -0.162519     T  \n",
       "3   -0.162519     T  \n",
       "4   -0.162519     T  \n",
       "5    0.371564     T  "
      ]
     },
     "execution_count": 108,
     "metadata": {},
     "output_type": "execute_result"
    }
   ],
   "source": [
    "raw_data = pd.read_csv(\"prostate_data.txt\", sep=\"\\t\", index_col=(0))\n",
    "raw_data.head()"
   ]
  },
  {
   "cell_type": "code",
   "execution_count": 109,
   "id": "607ae738",
   "metadata": {
    "scrolled": false
   },
   "outputs": [
    {
     "data": {
      "text/plain": [
       "Index(['lcavol', 'lweight', 'age', 'lbph', 'svi', 'lcp', 'gleason', 'pgg45',\n",
       "       'lpsa', 'train'],\n",
       "      dtype='object')"
      ]
     },
     "execution_count": 109,
     "metadata": {},
     "output_type": "execute_result"
    }
   ],
   "source": [
    "raw_data.columns"
   ]
  },
  {
   "cell_type": "code",
   "execution_count": 110,
   "id": "7da6def4",
   "metadata": {},
   "outputs": [
    {
     "data": {
      "text/plain": [
       "(97, 10)"
      ]
     },
     "execution_count": 110,
     "metadata": {},
     "output_type": "execute_result"
    }
   ],
   "source": [
    "raw_data.shape"
   ]
  },
  {
   "cell_type": "markdown",
   "id": "407df671",
   "metadata": {},
   "source": [
    "On va prendre comme label la quantité d’expression de l’antigène qui est associée à la détection de ce cancer (la colonne lpsa du dataset)"
   ]
  },
  {
   "cell_type": "code",
   "execution_count": 111,
   "id": "e01677c0",
   "metadata": {},
   "outputs": [],
   "source": [
    "X = raw_data[[\"lweight\", \"age\", \"lbph\", \"svi\", \"lcp\", \"gleason\"]].values\n",
    "y = raw_data[[\"lpsa\"]].values"
   ]
  },
  {
   "cell_type": "markdown",
   "id": "df2379df",
   "metadata": {},
   "source": [
    "Séparons en training-set et testing-set notre jeu de données."
   ]
  },
  {
   "cell_type": "code",
   "execution_count": 133,
   "id": "4d85181b",
   "metadata": {},
   "outputs": [],
   "source": [
    "from sklearn.model_selection import train_test_split\n",
    "X_train, X_test, y_train, y_test = train_test_split(X, y, test_size = 0.33)"
   ]
  },
  {
   "cell_type": "code",
   "execution_count": 134,
   "id": "31db4f1e",
   "metadata": {},
   "outputs": [],
   "source": [
    "from sklearn.preprocessing import StandardScaler\n",
    "scaler = StandardScaler()\n",
    "scaler.fit(X_train)\n",
    "X_train_scaled = scaler.transform(X_train)\n",
    "X_test_scaled = scaler.transform(X_test)"
   ]
  },
  {
   "cell_type": "markdown",
   "id": "7e5bd3c4",
   "metadata": {},
   "source": [
    "La première étape va être d'entraîner une régression linéaire classique, afin de récupérer une erreur classique que l'on pourra comparer aux modèles de régression régularisée."
   ]
  },
  {
   "cell_type": "code",
   "execution_count": 135,
   "id": "108c3b57",
   "metadata": {},
   "outputs": [
    {
     "name": "stdout",
     "output_type": "stream",
     "text": [
      "Baseline Mean Square Error = 0.7175\n"
     ]
    }
   ],
   "source": [
    "from sklearn.linear_model import LinearRegression\n",
    "\n",
    "# On entraîne notre régression linéaire\n",
    "lin_regr = LinearRegression()\n",
    "lin_regr.fit(X_train_scaled, y_train)\n",
    "\n",
    "# On récupère l'erreur observée\n",
    "baseline_MSE = np.mean((lin_regr.predict(X_test_scaled)-y_test)**2)\n",
    "print(\"Baseline Mean Square Error = %.04f\" % baseline_MSE)"
   ]
  },
  {
   "cell_type": "markdown",
   "id": "90973cdb",
   "metadata": {},
   "source": [
    "## Régression Ridge"
   ]
  },
  {
   "cell_type": "markdown",
   "id": "1c0f5c38",
   "metadata": {},
   "source": [
    "Passons à la regression Ridge. On va tester plusieurs valeurs de alpha pour trouver la valeur optimale."
   ]
  },
  {
   "cell_type": "code",
   "execution_count": 136,
   "id": "15a8d0c2",
   "metadata": {},
   "outputs": [],
   "source": [
    "n_alphas = 200\n",
    "alphas = np.logspace(-5,5, n_alphas)"
   ]
  },
  {
   "cell_type": "code",
   "execution_count": 137,
   "id": "97474e81",
   "metadata": {},
   "outputs": [],
   "source": [
    "from sklearn.linear_model import Ridge\n",
    "\n",
    "ridge = Ridge()\n",
    "\n",
    "coefs = []\n",
    "errors = []\n",
    "for a in alphas:\n",
    "    ridge.set_params(alpha=a)\n",
    "    ridge.fit(X_train_scaled, y_train)\n",
    "    coefs.append(ridge.coef_)\n",
    "    errors.append([baseline_MSE, np.mean((ridge.predict(X_test_scaled)-y_test)**2)])"
   ]
  },
  {
   "cell_type": "markdown",
   "id": "5e843bf0",
   "metadata": {},
   "source": [
    "Affichons les erreurs ainsi collectées."
   ]
  },
  {
   "cell_type": "code",
   "execution_count": 138,
   "id": "c167196f",
   "metadata": {},
   "outputs": [
    {
     "data": {
      "image/png": "[encoded data removed]",
      "text/plain": [
       "<Figure size 640x480 with 1 Axes>"
      ]
     },
     "metadata": {},
     "output_type": "display_data"
    }
   ],
   "source": [
    "import matplotlib.pyplot as plt\n",
    "\n",
    "ax = plt.gca()\n",
    "\n",
    "ax.plot(alphas, errors)\n",
    "ax.set_xscale('log')\n",
    "plt.xlabel('alpha')\n",
    "plt.ylabel('error')\n",
    "plt.axis('tight')\n",
    "plt.show()"
   ]
  },
  {
   "cell_type": "markdown",
   "id": "3444eae7",
   "metadata": {},
   "source": [
    "On voit sur la courbe que la régression ridge permet d'obtenir une erreur plus faible que la régression linéaire simple pour certaines valeurs de alpha."
   ]
  },
  {
   "cell_type": "code",
   "execution_count": 139,
   "id": "4c0bf5db",
   "metadata": {},
   "outputs": [
    {
     "data": {
      "text/plain": [
       "[0.7174647710759258, 0.7174647717092124]"
      ]
     },
     "execution_count": 139,
     "metadata": {},
     "output_type": "execute_result"
    }
   ],
   "source": [
    "min(errors)"
   ]
  },
  {
   "cell_type": "code",
   "execution_count": 140,
   "id": "927855f2",
   "metadata": {},
   "outputs": [
    {
     "data": {
      "text/plain": [
       "1e-05"
      ]
     },
     "execution_count": 140,
     "metadata": {},
     "output_type": "execute_result"
    }
   ],
   "source": [
    "alpha_ridge = alphas[errors.index(min(errors))]\n",
    "alpha_ridge"
   ]
  },
  {
   "cell_type": "markdown",
   "id": "a383462a",
   "metadata": {},
   "source": [
    "**On voit que la régression Ridge n'apporte rien...**"
   ]
  },
  {
   "cell_type": "markdown",
   "id": "05ddbef3",
   "metadata": {},
   "source": [
    "## Régression Lasso"
   ]
  },
  {
   "cell_type": "markdown",
   "id": "3022b65f",
   "metadata": {},
   "source": [
    "Passons à la régression Lasso."
   ]
  },
  {
   "cell_type": "code",
   "execution_count": 141,
   "id": "e5b0400e",
   "metadata": {},
   "outputs": [],
   "source": [
    "from sklearn.linear_model import Lasso\n",
    "\n",
    "n_alphas = 300\n",
    "alphas = np.logspace(-5, 1, n_alphas)\n",
    "lasso = Lasso(fit_intercept=False)\n",
    "\n",
    "coefs = []\n",
    "errors = []\n",
    "for a in alphas:\n",
    "    lasso.set_params(alpha=a)\n",
    "    lasso.fit(X_train_scaled, y_train)\n",
    "    coefs.append(lasso.coef_)\n",
    "    errors.append([baseline_MSE, np.mean((lasso.predict(X_test_scaled)-y_test)**2)])"
   ]
  },
  {
   "cell_type": "code",
   "execution_count": 142,
   "id": "00506534",
   "metadata": {
    "scrolled": false
   },
   "outputs": [
    {
     "data": {
      "image/png": "[encoded data removed]",
      "text/plain": [
       "<Figure size 640x480 with 1 Axes>"
      ]
     },
     "metadata": {},
     "output_type": "display_data"
    }
   ],
   "source": [
    "ax = plt.gca()\n",
    "\n",
    "ax.plot(alphas, coefs)\n",
    "ax.set_xscale('log')\n",
    "plt.xlabel('alpha')\n",
    "plt.ylabel('weights')\n",
    "plt.axis('tight')\n",
    "plt.show()"
   ]
  },
  {
   "cell_type": "markdown",
   "id": "c3a23e7b",
   "metadata": {},
   "source": [
    "On voit que le Lasso permet de supprimer des variables en mettant leur poids à 0.\n",
    "\n",
    "Que dire du comportement de l'erreur ?"
   ]
  },
  {
   "cell_type": "code",
   "execution_count": 143,
   "id": "c500f821",
   "metadata": {},
   "outputs": [
    {
     "data": {
      "image/png": "[encoded data removed]",
      "text/plain": [
       "<Figure size 640x480 with 1 Axes>"
      ]
     },
     "metadata": {},
     "output_type": "display_data"
    }
   ],
   "source": [
    "ax = plt.gca()\n",
    "ax.plot(alphas, errors)\n",
    "ax.set_xscale(\"log\")\n",
    "plt.xlabel(\"alpha\")\n",
    "plt.ylabel(\"error\")\n",
    "plt.axis(\"tight\")\n",
    "plt.show()"
   ]
  },
  {
   "cell_type": "markdown",
   "id": "834cefd6",
   "metadata": {},
   "source": [
    "**C'est n'importe quoi...**"
   ]
  }
 ],
 "metadata": {
  "kernelspec": {
   "display_name": "Python 3 (ipykernel)",
   "language": "python",
   "name": "python3"
  },
  "language_info": {
   "codemirror_mode": {
    "name": "ipython",
    "version": 3
   },
   "file_extension": ".py",
   "mimetype": "text/x-python",
   "name": "python",
   "nbconvert_exporter": "python",
   "pygments_lexer": "ipython3",
   "version": "3.9.13"
  }
 },
 "nbformat": 4,
 "nbformat_minor": 5
}
