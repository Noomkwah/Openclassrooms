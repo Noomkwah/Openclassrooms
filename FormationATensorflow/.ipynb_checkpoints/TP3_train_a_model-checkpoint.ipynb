{
 "cells": [
  {
   "cell_type": "code",
   "execution_count": 1,
   "id": "30554460",
   "metadata": {},
   "outputs": [],
   "source": [
    "import numpy as np\n",
    "import tensorflow as tf"
   ]
  },
  {
   "cell_type": "code",
   "execution_count": 2,
   "id": "a1eacdc4",
   "metadata": {},
   "outputs": [],
   "source": [
    "assert hasattr(tf, \"function\") # Be sue to use Tensorflow 2.0"
   ]
  },
  {
   "cell_type": "markdown",
   "id": "0cdae35c",
   "metadata": {},
   "source": [
    "### Start by creating a simple model"
   ]
  },
  {
   "cell_type": "code",
   "execution_count": 4,
   "id": "0323b310",
   "metadata": {},
   "outputs": [],
   "source": [
    "model = tf.keras.models.Sequential() # Create the model\n",
    "\n",
    "# Add layers\n",
    "model.add(tf.keras.layers.Dense(256, activation = \"relu\"))\n",
    "model.add(tf.keras.layers.Dense(128, activation = \"relu\"))\n",
    "model.add(tf.keras.layers.Dense(2, activation = \"softmax\"))"
   ]
  },
  {
   "cell_type": "markdown",
   "id": "8f46684f",
   "metadata": {},
   "source": [
    "### Setup the optimizer, loss function and one metrics"
   ]
  },
  {
   "cell_type": "code",
   "execution_count": 5,
   "id": "f450b9c8",
   "metadata": {},
   "outputs": [],
   "source": [
    "loss_object = tf.keras.losses.SparseCategoricalCrossentropy() # The loss method\n",
    "optimizer = tf.keras.optimizers.Adam() # The optimizer\n",
    "train_loss = tf.keras.metrics.Mean(name=\"train_loss\") # Track the progress of loss"
   ]
  },
  {
   "cell_type": "markdown",
   "id": "d1267a31",
   "metadata": {},
   "source": [
    "### Create a method which use autograph to train the model"
   ]
  },
  {
   "cell_type": "code",
   "execution_count": 6,
   "id": "8a95898f",
   "metadata": {},
   "outputs": [],
   "source": [
    "def train_step(image, targets):\n",
    "    predictions = model(image)\n",
    "    loss = loss_object(targets, predictions)\n",
    "    print(\"loss: \", loss)"
   ]
  },
  {
   "cell_type": "markdown",
   "id": "38273144",
   "metadata": {},
   "source": [
    "### Train the model"
   ]
  },
  {
   "cell_type": "code",
   "execution_count": null,
   "id": "3b4ac629",
   "metadata": {},
   "outputs": [],
   "source": [
    "for epoch in range(0, 1):\n",
    "    for _ in range(0, 1):\n",
    "        \n",
    "        # Create fake inputs with two classes\n",
    "        inputs = np.zeros((2, 30))\n",
    "        inputs[0] -= 1\n",
    "        inputs[1] = 1\n",
    "        \n",
    "        targets = np.zeros((2, 1))\n",
    "        targets[0] = 0\n",
    "        targets[1] = 1"
   ]
  }
 ],
 "metadata": {
  "kernelspec": {
   "display_name": "Python 3 (ipykernel)",
   "language": "python",
   "name": "python3"
  },
  "language_info": {
   "codemirror_mode": {
    "name": "ipython",
    "version": 3
   },
   "file_extension": ".py",
   "mimetype": "text/x-python",
   "name": "python",
   "nbconvert_exporter": "python",
   "pygments_lexer": "ipython3",
   "version": "3.9.13"
  }
 },
 "nbformat": 4,
 "nbformat_minor": 5
}
