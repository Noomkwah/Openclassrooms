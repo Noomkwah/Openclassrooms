{
 "cells": [
  {
   "cell_type": "markdown",
   "id": "a7c68e8a",
   "metadata": {},
   "source": [
    "Le but de ce notebook est de recréer l'architecture d'un perceptron, puis finalement d'un perceptron multicouche."
   ]
  },
  {
   "cell_type": "code",
   "execution_count": 1,
   "id": "1308ecbe",
   "metadata": {},
   "outputs": [],
   "source": [
    "import pandas as pd\n",
    "import numpy as np"
   ]
  },
  {
   "cell_type": "code",
   "execution_count": 41,
   "id": "eb291d28",
   "metadata": {},
   "outputs": [
    {
     "data": {
      "text/html": [
       "<div>\n",
       "<style scoped>\n",
       "    .dataframe tbody tr th:only-of-type {\n",
       "        vertical-align: middle;\n",
       "    }\n",
       "\n",
       "    .dataframe tbody tr th {\n",
       "        vertical-align: top;\n",
       "    }\n",
       "\n",
       "    .dataframe thead th {\n",
       "        text-align: right;\n",
       "    }\n",
       "</style>\n",
       "<table border=\"1\" class=\"dataframe\">\n",
       "  <thead>\n",
       "    <tr style=\"text-align: right;\">\n",
       "      <th></th>\n",
       "      <th>x1</th>\n",
       "      <th>x2</th>\n",
       "      <th>y</th>\n",
       "    </tr>\n",
       "  </thead>\n",
       "  <tbody>\n",
       "    <tr>\n",
       "      <th>0</th>\n",
       "      <td>0.304410</td>\n",
       "      <td>0.298488</td>\n",
       "      <td>1</td>\n",
       "    </tr>\n",
       "    <tr>\n",
       "      <th>1</th>\n",
       "      <td>0.350150</td>\n",
       "      <td>0.241131</td>\n",
       "      <td>2</td>\n",
       "    </tr>\n",
       "    <tr>\n",
       "      <th>2</th>\n",
       "      <td>0.433092</td>\n",
       "      <td>0.692948</td>\n",
       "      <td>1</td>\n",
       "    </tr>\n",
       "    <tr>\n",
       "      <th>3</th>\n",
       "      <td>0.856071</td>\n",
       "      <td>0.305050</td>\n",
       "      <td>3</td>\n",
       "    </tr>\n",
       "    <tr>\n",
       "      <th>4</th>\n",
       "      <td>0.074464</td>\n",
       "      <td>0.295616</td>\n",
       "      <td>0</td>\n",
       "    </tr>\n",
       "  </tbody>\n",
       "</table>\n",
       "</div>"
      ],
      "text/plain": [
       "         x1        x2  y\n",
       "0  0.304410  0.298488  1\n",
       "1  0.350150  0.241131  2\n",
       "2  0.433092  0.692948  1\n",
       "3  0.856071  0.305050  3\n",
       "4  0.074464  0.295616  0"
      ]
     },
     "execution_count": 41,
     "metadata": {},
     "output_type": "execute_result"
    }
   ],
   "source": [
    "# Créons des données d'entraînement.\n",
    "def categorification(x):\n",
    "    if x <4.75:\n",
    "        return 0\n",
    "    elif x < 5.5:\n",
    "        return 1\n",
    "    elif x <6.3:\n",
    "        return 2\n",
    "    else:\n",
    "        return 3\n",
    "\n",
    "def createData(n, Binaryclassifier=False, MultiClassifier=False):\n",
    "    x1 = np.random.random(n)\n",
    "    x2 = np.random.random(n)\n",
    "    y = 3*x1 - 2*x2 + 5 + np.random.random(n)/10\n",
    "    if Binaryclassifier:\n",
    "        y = np.where(y>5.5, 1, 0)\n",
    "\n",
    "    data = pd.DataFrame({'x1' : x1, 'x2' : x2, 'y' : y})\n",
    "    \n",
    "    if MultiClassifier:\n",
    "        data[\"y\"] = data[\"y\"].apply(categorification)\n",
    "        \n",
    "    return data\n",
    "\n",
    "data = createData(10000, False, True)\n",
    "\n",
    "\n",
    "X = data.drop(columns=[\"y\"]).values\n",
    "y = data[\"y\"].values\n",
    "p = X.shape[1]\n",
    "\n",
    "data.head()"
   ]
  },
  {
   "cell_type": "code",
   "execution_count": 42,
   "id": "4cfc0ef0",
   "metadata": {},
   "outputs": [
    {
     "data": {
      "text/plain": [
       "count    10000.000000\n",
       "mean         1.536500\n",
       "std          1.120443\n",
       "min          0.000000\n",
       "25%          1.000000\n",
       "50%          2.000000\n",
       "75%          3.000000\n",
       "max          3.000000\n",
       "Name: y, dtype: float64"
      ]
     },
     "execution_count": 42,
     "metadata": {},
     "output_type": "execute_result"
    }
   ],
   "source": [
    "data.y.describe()"
   ]
  },
  {
   "cell_type": "code",
   "execution_count": 96,
   "id": "45a94352",
   "metadata": {},
   "outputs": [],
   "source": [
    "class RegressionPerceptron():\n",
    "    def __init__(self, p, eta=1):\n",
    "        self.p = p\n",
    "        self.eta = eta\n",
    "        self.weights = np.ones(self.p+1) # On initialise les poids à 1. Le dernier poids est le poids du terme constant.\n",
    "        print(f\"p = {self.p}, weights = {self.weights}\")\n",
    "        \n",
    "    def fit(self, X, y):\n",
    "        n = X.shape[0]\n",
    "        \n",
    "        for i in range(n):\n",
    "            x = X[i]\n",
    "            y_true = y[i]\n",
    "            y_pred = self.predict(x) # On prédit la valeur de y\n",
    "            self.update_weights(x, y_true, y_pred) # On met à jour les poids\n",
    "            #print(f\"i = {i}, x = {x}, y_true = {y[i]}, y_pred = {y_pred}\")\n",
    "            #print(f\"weights = {self.weights}\")\n",
    "            #print(\"\\n\")\n",
    "\n",
    "    def predict(self, x):\n",
    "        prediction = self.weights[-1]\n",
    "        for k in range(p):\n",
    "            prediction += x[k]*self.weights[k]\n",
    "        \n",
    "        return prediction\n",
    "            \n",
    "    def update_weights(self, x, y_true, y_pred):\n",
    "            for k in range(p):\n",
    "                self.weights[k] = self.weights[k] + self.eta * (y_true - y_pred)*x[k]\n",
    "            self.weights[-1] = self.weights[-1] + self.eta * (y_true - y_pred)\n",
    "    \n",
    "    def error(self, x, y_true):\n",
    "        y_pred = self.predict(x)\n",
    "        return 0.5 * (y_pred - y_true)**2\n",
    "    \n",
    "    def mean_squared_error(self, X, y):\n",
    "        mse = 0\n",
    "        n = X.shape[0]\n",
    "        for i in range(n):\n",
    "            error_i = self.error(X[i], y[i])\n",
    "            \n",
    "            mse += error_i\n",
    "        \n",
    "        return mse/n*2"
   ]
  },
  {
   "cell_type": "code",
   "execution_count": 102,
   "id": "b41cd85e",
   "metadata": {
    "collapsed": true
   },
   "outputs": [
    {
     "name": "stdout",
     "output_type": "stream",
     "text": [
      "p = 2, weights = [1. 1. 1.]\n",
      "[ 3.04650401 -1.97327537  5.06739868] 0.003958976683520342\n"
     ]
    },
    {
     "data": {
      "text/html": [
       "<div>\n",
       "<style scoped>\n",
       "    .dataframe tbody tr th:only-of-type {\n",
       "        vertical-align: middle;\n",
       "    }\n",
       "\n",
       "    .dataframe tbody tr th {\n",
       "        vertical-align: top;\n",
       "    }\n",
       "\n",
       "    .dataframe thead th {\n",
       "        text-align: right;\n",
       "    }\n",
       "</style>\n",
       "<table border=\"1\" class=\"dataframe\">\n",
       "  <thead>\n",
       "    <tr style=\"text-align: right;\">\n",
       "      <th></th>\n",
       "      <th>x1</th>\n",
       "      <th>x2</th>\n",
       "      <th>y</th>\n",
       "      <th>y_pred</th>\n",
       "    </tr>\n",
       "  </thead>\n",
       "  <tbody>\n",
       "    <tr>\n",
       "      <th>2941</th>\n",
       "      <td>0.985248</td>\n",
       "      <td>0.256510</td>\n",
       "      <td>7.530464</td>\n",
       "      <td>7.562795</td>\n",
       "    </tr>\n",
       "    <tr>\n",
       "      <th>405</th>\n",
       "      <td>0.087725</td>\n",
       "      <td>0.139983</td>\n",
       "      <td>5.032247</td>\n",
       "      <td>5.058428</td>\n",
       "    </tr>\n",
       "    <tr>\n",
       "      <th>2279</th>\n",
       "      <td>0.471657</td>\n",
       "      <td>0.228290</td>\n",
       "      <td>6.053146</td>\n",
       "      <td>6.053824</td>\n",
       "    </tr>\n",
       "    <tr>\n",
       "      <th>1159</th>\n",
       "      <td>0.809501</td>\n",
       "      <td>0.299359</td>\n",
       "      <td>6.908372</td>\n",
       "      <td>6.942829</td>\n",
       "    </tr>\n",
       "    <tr>\n",
       "      <th>9824</th>\n",
       "      <td>0.062613</td>\n",
       "      <td>0.204430</td>\n",
       "      <td>4.801631</td>\n",
       "      <td>4.854752</td>\n",
       "    </tr>\n",
       "    <tr>\n",
       "      <th>7542</th>\n",
       "      <td>0.723311</td>\n",
       "      <td>0.892408</td>\n",
       "      <td>5.390012</td>\n",
       "      <td>5.510003</td>\n",
       "    </tr>\n",
       "    <tr>\n",
       "      <th>1049</th>\n",
       "      <td>0.242806</td>\n",
       "      <td>0.079006</td>\n",
       "      <td>5.627183</td>\n",
       "      <td>5.651208</td>\n",
       "    </tr>\n",
       "    <tr>\n",
       "      <th>7657</th>\n",
       "      <td>0.365963</td>\n",
       "      <td>0.345760</td>\n",
       "      <td>5.425988</td>\n",
       "      <td>5.500027</td>\n",
       "    </tr>\n",
       "    <tr>\n",
       "      <th>399</th>\n",
       "      <td>0.778541</td>\n",
       "      <td>0.914503</td>\n",
       "      <td>5.526336</td>\n",
       "      <td>5.634662</td>\n",
       "    </tr>\n",
       "    <tr>\n",
       "      <th>2592</th>\n",
       "      <td>0.156521</td>\n",
       "      <td>0.952280</td>\n",
       "      <td>3.567659</td>\n",
       "      <td>3.665128</td>\n",
       "    </tr>\n",
       "  </tbody>\n",
       "</table>\n",
       "</div>"
      ],
      "text/plain": [
       "            x1        x2         y    y_pred\n",
       "2941  0.985248  0.256510  7.530464  7.562795\n",
       "405   0.087725  0.139983  5.032247  5.058428\n",
       "2279  0.471657  0.228290  6.053146  6.053824\n",
       "1159  0.809501  0.299359  6.908372  6.942829\n",
       "9824  0.062613  0.204430  4.801631  4.854752\n",
       "7542  0.723311  0.892408  5.390012  5.510003\n",
       "1049  0.242806  0.079006  5.627183  5.651208\n",
       "7657  0.365963  0.345760  5.425988  5.500027\n",
       "399   0.778541  0.914503  5.526336  5.634662\n",
       "2592  0.156521  0.952280  3.567659  3.665128"
      ]
     },
     "execution_count": 102,
     "metadata": {},
     "output_type": "execute_result"
    }
   ],
   "source": [
    "perceptron = RegressionPerceptron(p, 1)\n",
    "perceptron.fit(X, y)\n",
    "print(perceptron.weights, perceptron.mean_squared_error(X, y))\n",
    "y_pred_ = [perceptron.predict(x) for x in X]\n",
    "data[\"y_pred\"] = y_pred_\n",
    "data.sample(10)"
   ]
  },
  {
   "cell_type": "code",
   "execution_count": 120,
   "id": "faba99f2",
   "metadata": {},
   "outputs": [],
   "source": [
    "class BinaryPerceptron():\n",
    "    \n",
    "    def __init__(self, eta=1):\n",
    "        self.eta = eta\n",
    "        self.weights = None\n",
    "        self.n = None\n",
    "        self.p = None\n",
    "    \n",
    "    def fit(self, X, y):\n",
    "        self.n, self.p = X.shape\n",
    "        self.weights = np.ones(p+1)\n",
    "        \n",
    "        for i in range(self.n):\n",
    "            x, y_true = X[i], y[i]\n",
    "            y_pred = self.predict(x)\n",
    "            self.update_weights(x, y_true, y_pred)\n",
    "\n",
    "    def predict(self, x):\n",
    "        y_pred = self.weights[-1]\n",
    "        for k in range(self.p):\n",
    "            y_pred += self.weights[k]*x[k]\n",
    "        return 1/(1+np.exp(-y_pred))\n",
    "    \n",
    "    def update_weights(self, x, y_true, y_pred):\n",
    "            for k in range(p):\n",
    "                self.weights[k] = self.weights[k] + self.eta * (y_true - y_pred)*x[k]\n",
    "            self.weights[-1] = self.weights[-1] + self.eta * (y_true - y_pred)"
   ]
  },
  {
   "cell_type": "code",
   "execution_count": 128,
   "id": "4abe6aa9",
   "metadata": {},
   "outputs": [
    {
     "data": {
      "text/html": [
       "<div>\n",
       "<style scoped>\n",
       "    .dataframe tbody tr th:only-of-type {\n",
       "        vertical-align: middle;\n",
       "    }\n",
       "\n",
       "    .dataframe tbody tr th {\n",
       "        vertical-align: top;\n",
       "    }\n",
       "\n",
       "    .dataframe thead th {\n",
       "        text-align: right;\n",
       "    }\n",
       "</style>\n",
       "<table border=\"1\" class=\"dataframe\">\n",
       "  <thead>\n",
       "    <tr style=\"text-align: right;\">\n",
       "      <th></th>\n",
       "      <th>x1</th>\n",
       "      <th>x2</th>\n",
       "      <th>y</th>\n",
       "    </tr>\n",
       "  </thead>\n",
       "  <tbody>\n",
       "    <tr>\n",
       "      <th>0</th>\n",
       "      <td>0.468018</td>\n",
       "      <td>0.856646</td>\n",
       "      <td>0</td>\n",
       "    </tr>\n",
       "    <tr>\n",
       "      <th>1</th>\n",
       "      <td>0.095501</td>\n",
       "      <td>0.339414</td>\n",
       "      <td>0</td>\n",
       "    </tr>\n",
       "    <tr>\n",
       "      <th>2</th>\n",
       "      <td>0.682539</td>\n",
       "      <td>0.038169</td>\n",
       "      <td>1</td>\n",
       "    </tr>\n",
       "    <tr>\n",
       "      <th>3</th>\n",
       "      <td>0.307739</td>\n",
       "      <td>0.415661</td>\n",
       "      <td>0</td>\n",
       "    </tr>\n",
       "    <tr>\n",
       "      <th>4</th>\n",
       "      <td>0.162557</td>\n",
       "      <td>0.395716</td>\n",
       "      <td>0</td>\n",
       "    </tr>\n",
       "  </tbody>\n",
       "</table>\n",
       "</div>"
      ],
      "text/plain": [
       "         x1        x2  y\n",
       "0  0.468018  0.856646  0\n",
       "1  0.095501  0.339414  0\n",
       "2  0.682539  0.038169  1\n",
       "3  0.307739  0.415661  0\n",
       "4  0.162557  0.395716  0"
      ]
     },
     "execution_count": 128,
     "metadata": {},
     "output_type": "execute_result"
    }
   ],
   "source": [
    "data_binary = createData(10000, True)\n",
    "X = data_binary.drop(columns=[\"y\"]).values\n",
    "y = data_binary[\"y\"].values\n",
    "p = X.shape[1]\n",
    "data_binary.head()"
   ]
  },
  {
   "cell_type": "code",
   "execution_count": 139,
   "id": "ce848d6f",
   "metadata": {},
   "outputs": [
    {
     "name": "stdout",
     "output_type": "stream",
     "text": [
      "[ 33.28740394 -20.92334897  -5.72122774]\n"
     ]
    },
    {
     "data": {
      "text/html": [
       "<div>\n",
       "<style scoped>\n",
       "    .dataframe tbody tr th:only-of-type {\n",
       "        vertical-align: middle;\n",
       "    }\n",
       "\n",
       "    .dataframe tbody tr th {\n",
       "        vertical-align: top;\n",
       "    }\n",
       "\n",
       "    .dataframe thead th {\n",
       "        text-align: right;\n",
       "    }\n",
       "</style>\n",
       "<table border=\"1\" class=\"dataframe\">\n",
       "  <thead>\n",
       "    <tr style=\"text-align: right;\">\n",
       "      <th></th>\n",
       "      <th>x1</th>\n",
       "      <th>x2</th>\n",
       "      <th>y</th>\n",
       "      <th>y_pred</th>\n",
       "      <th>prediction_is_correct</th>\n",
       "    </tr>\n",
       "  </thead>\n",
       "  <tbody>\n",
       "    <tr>\n",
       "      <th>8690</th>\n",
       "      <td>0.486534</td>\n",
       "      <td>0.764601</td>\n",
       "      <td>0</td>\n",
       "      <td>3.974838e-03</td>\n",
       "      <td>1</td>\n",
       "    </tr>\n",
       "    <tr>\n",
       "      <th>540</th>\n",
       "      <td>0.608157</td>\n",
       "      <td>0.699110</td>\n",
       "      <td>1</td>\n",
       "      <td>4.737791e-01</td>\n",
       "      <td>0</td>\n",
       "    </tr>\n",
       "    <tr>\n",
       "      <th>5173</th>\n",
       "      <td>0.938292</td>\n",
       "      <td>0.994192</td>\n",
       "      <td>1</td>\n",
       "      <td>9.910779e-01</td>\n",
       "      <td>1</td>\n",
       "    </tr>\n",
       "    <tr>\n",
       "      <th>9956</th>\n",
       "      <td>0.174448</td>\n",
       "      <td>0.270200</td>\n",
       "      <td>0</td>\n",
       "      <td>3.804400e-03</td>\n",
       "      <td>1</td>\n",
       "    </tr>\n",
       "    <tr>\n",
       "      <th>9001</th>\n",
       "      <td>0.646462</td>\n",
       "      <td>0.846527</td>\n",
       "      <td>0</td>\n",
       "      <td>1.284920e-01</td>\n",
       "      <td>1</td>\n",
       "    </tr>\n",
       "    <tr>\n",
       "      <th>3215</th>\n",
       "      <td>0.963716</td>\n",
       "      <td>0.076627</td>\n",
       "      <td>1</td>\n",
       "      <td>1.000000e+00</td>\n",
       "      <td>1</td>\n",
       "    </tr>\n",
       "    <tr>\n",
       "      <th>9356</th>\n",
       "      <td>0.462347</td>\n",
       "      <td>0.454630</td>\n",
       "      <td>1</td>\n",
       "      <td>5.391067e-01</td>\n",
       "      <td>1</td>\n",
       "    </tr>\n",
       "    <tr>\n",
       "      <th>8406</th>\n",
       "      <td>0.084617</td>\n",
       "      <td>0.716773</td>\n",
       "      <td>0</td>\n",
       "      <td>1.680069e-08</td>\n",
       "      <td>1</td>\n",
       "    </tr>\n",
       "    <tr>\n",
       "      <th>1938</th>\n",
       "      <td>0.571476</td>\n",
       "      <td>0.775428</td>\n",
       "      <td>0</td>\n",
       "      <td>5.103687e-02</td>\n",
       "      <td>1</td>\n",
       "    </tr>\n",
       "    <tr>\n",
       "      <th>9767</th>\n",
       "      <td>0.267246</td>\n",
       "      <td>0.037844</td>\n",
       "      <td>1</td>\n",
       "      <td>9.155126e-01</td>\n",
       "      <td>1</td>\n",
       "    </tr>\n",
       "  </tbody>\n",
       "</table>\n",
       "</div>"
      ],
      "text/plain": [
       "            x1        x2  y        y_pred  prediction_is_correct\n",
       "8690  0.486534  0.764601  0  3.974838e-03                      1\n",
       "540   0.608157  0.699110  1  4.737791e-01                      0\n",
       "5173  0.938292  0.994192  1  9.910779e-01                      1\n",
       "9956  0.174448  0.270200  0  3.804400e-03                      1\n",
       "9001  0.646462  0.846527  0  1.284920e-01                      1\n",
       "3215  0.963716  0.076627  1  1.000000e+00                      1\n",
       "9356  0.462347  0.454630  1  5.391067e-01                      1\n",
       "8406  0.084617  0.716773  0  1.680069e-08                      1\n",
       "1938  0.571476  0.775428  0  5.103687e-02                      1\n",
       "9767  0.267246  0.037844  1  9.155126e-01                      1"
      ]
     },
     "execution_count": 139,
     "metadata": {},
     "output_type": "execute_result"
    }
   ],
   "source": [
    "perceptron_binary = BinaryPerceptron(1)\n",
    "perceptron_binary.fit(X, y)\n",
    "print(perceptron_binary.weights)\n",
    "y_pred_ = [perceptron_binary.predict(x) for x in X]\n",
    "data_binary[\"y_pred\"] = y_pred_\n",
    "data_binary[\"prediction_is_correct\"] = np.where(abs(data_binary.y_pred-data_binary.y)<0.5, 1, 0)\n",
    "data_binary.sample(10)"
   ]
  },
  {
   "cell_type": "code",
   "execution_count": 140,
   "id": "8ff3965a",
   "metadata": {},
   "outputs": [
    {
     "data": {
      "text/plain": [
       "1    9892\n",
       "0     108\n",
       "Name: prediction_is_correct, dtype: int64"
      ]
     },
     "execution_count": 140,
     "metadata": {},
     "output_type": "execute_result"
    }
   ],
   "source": [
    "data_binary.prediction_is_correct.value_counts()"
   ]
  },
  {
   "cell_type": "code",
   "execution_count": 143,
   "id": "d361a12a",
   "metadata": {},
   "outputs": [
    {
     "data": {
      "text/plain": [
       "array([0, 1])"
      ]
     },
     "execution_count": 143,
     "metadata": {},
     "output_type": "execute_result"
    }
   ],
   "source": [
    "np.unique(data_binary[\"y\"].values)"
   ]
  },
  {
   "cell_type": "code",
   "execution_count": 163,
   "id": "d6e7c490",
   "metadata": {},
   "outputs": [],
   "source": [
    "def accuracy(y_true, y_pred):\n",
    "    right_answers = np.where(abs(y_pred-y_true)<0.5, 1, 0)\n",
    "    \n",
    "    return sum(right_answers)/len(y_true)"
   ]
  },
  {
   "cell_type": "code",
   "execution_count": 131,
   "id": "090b488d",
   "metadata": {},
   "outputs": [
    {
     "data": {
      "text/plain": [
       "0.9892"
      ]
     },
     "execution_count": 131,
     "metadata": {},
     "output_type": "execute_result"
    }
   ],
   "source": [
    "accuracy(data_binary.y, data_binary.y_pred)"
   ]
  },
  {
   "cell_type": "code",
   "execution_count": 178,
   "id": "e34c6a3a",
   "metadata": {},
   "outputs": [
    {
     "name": "stdout",
     "output_type": "stream",
     "text": [
      "Perceptron fitted with:\n",
      "n = 10000, p = 2, K = 4\n",
      "0.1 0.9129\n",
      "Perceptron fitted with:\n",
      "n = 10000, p = 2, K = 4\n",
      "0.1291549665014884 0.9139\n",
      "Perceptron fitted with:\n",
      "n = 10000, p = 2, K = 4\n",
      "0.16681005372000587 0.9149\n",
      "Perceptron fitted with:\n",
      "n = 10000, p = 2, K = 4\n",
      "0.21544346900318834 0.9165\n",
      "Perceptron fitted with:\n",
      "n = 10000, p = 2, K = 4\n",
      "0.2782559402207124 0.917\n",
      "Perceptron fitted with:\n",
      "n = 10000, p = 2, K = 4\n",
      "0.35938136638046275 0.9162\n",
      "Perceptron fitted with:\n",
      "n = 10000, p = 2, K = 4\n",
      "0.46415888336127786 0.9142\n",
      "Perceptron fitted with:\n",
      "n = 10000, p = 2, K = 4\n",
      "0.5994842503189409 0.9116\n",
      "Perceptron fitted with:\n",
      "n = 10000, p = 2, K = 4\n",
      "0.774263682681127 0.9071\n",
      "Perceptron fitted with:\n",
      "n = 10000, p = 2, K = 4\n",
      "1.0 0.9025\n"
     ]
    }
   ],
   "source": [
    "class MulticlassPerceptron():\n",
    "    def __init__(self, eta=1):\n",
    "        self.eta = eta\n",
    "        self.n = None\n",
    "        self.p = None\n",
    "        self.K = None\n",
    "        self.weights = None\n",
    "    \n",
    "    def fit(self, X, y):\n",
    "        self.n, self.p = X.shape\n",
    "        self.K = len(np.unique(y))\n",
    "        self.weights = np.ones((self.p+1, self.K))\n",
    "        \n",
    "        for i in range(self.n):\n",
    "            x = X[i]\n",
    "            y_true = np.zeros(self.K)\n",
    "            y_true[y[i]] = 1\n",
    "            y_pred = self.predict(x, fitting=True)\n",
    "            self.update_weights(x, y_true, y_pred)\n",
    "        \n",
    "        print(\"Perceptron fitted with:\")\n",
    "        print(f\"n = {self.n}, p = {self.p}, K = {self.K}\")\n",
    "        \n",
    "\n",
    "    def predict(self, x, fitting=False):\n",
    "        y_pred = np.dot(x, self.weights[:-1, :]) + self.weights[-1, :]\n",
    "        \n",
    "        if fitting:\n",
    "            return self.__softmax__(y_pred)\n",
    "        else:\n",
    "            return np.argmax(self.__softmax__(y_pred))\n",
    "    \n",
    "    def __softmax__(self, u):\n",
    "        v = np.exp(u)\n",
    "        return v/sum(v)\n",
    "    \n",
    "    def update_weights(self, x, y_true, y_pred):\n",
    "        self.weights[:-1, :] = self.weights[:-1, :] + self.eta * np.outer(x, y_true - y_pred)\n",
    "        self.weights[-1, :] = self.weights[-1, :] + self.eta * (y_true - y_pred)\n",
    "\n",
    "for eta in np.logspace(-1, 0, 10):\n",
    "    perceptron = MulticlassPerceptron(eta)\n",
    "    perceptron.fit(X, y)\n",
    "    y_pred = [perceptron.predict(x) for x in X]\n",
    "    print(perceptron.eta, accuracy(y, y_pred))"
   ]
  },
  {
   "cell_type": "code",
   "execution_count": 173,
   "id": "7b9142e1",
   "metadata": {},
   "outputs": [
    {
     "data": {
      "text/plain": [
       "0.1"
      ]
     },
     "execution_count": 173,
     "metadata": {},
     "output_type": "execute_result"
    }
   ],
   "source": [
    "perceptron.eta"
   ]
  },
  {
   "cell_type": "code",
   "execution_count": 167,
   "id": "60eebfb7",
   "metadata": {},
   "outputs": [
    {
     "data": {
      "text/plain": [
       "0.9025"
      ]
     },
     "execution_count": 167,
     "metadata": {},
     "output_type": "execute_result"
    }
   ],
   "source": []
  }
 ],
 "metadata": {
  "kernelspec": {
   "display_name": "Python 3 (ipykernel)",
   "language": "python",
   "name": "python3"
  },
  "language_info": {
   "codemirror_mode": {
    "name": "ipython",
    "version": 3
   },
   "file_extension": ".py",
   "mimetype": "text/x-python",
   "name": "python",
   "nbconvert_exporter": "python",
   "pygments_lexer": "ipython3",
   "version": "3.9.13"
  }
 },
 "nbformat": 4,
 "nbformat_minor": 5
}
