{
 "cells": [
  {
   "cell_type": "code",
   "execution_count": 1,
   "id": "d3a5e772",
   "metadata": {},
   "outputs": [],
   "source": [
    "import numpy as np\n",
    "import tensorflow as tf\n",
    "from sklearn.preprocessing import StandardScaler"
   ]
  },
  {
   "cell_type": "markdown",
   "id": "209f1acc",
   "metadata": {},
   "source": [
    "### Import the database"
   ]
  },
  {
   "cell_type": "code",
   "execution_count": 2,
   "id": "b421e33e",
   "metadata": {},
   "outputs": [],
   "source": [
    "fashion_mnist = tf.keras.datasets.fashion_mnist\n",
    "(images, targets), (_, _) = fashion_mnist.load_data()\n",
    "images = images[:10000]\n",
    "targets = targets[:10000]\n",
    "\n",
    "images = images.reshape(-1, 784)\n",
    "images = images.astype(float)\n",
    "\n",
    "scaler = StandardScaler()\n",
    "images = scaler.fit_transform(images)"
   ]
  },
  {
   "cell_type": "markdown",
   "id": "3a78366f",
   "metadata": {},
   "source": [
    "### Create a model using the sublcassing API"
   ]
  },
  {
   "cell_type": "code",
   "execution_count": 3,
   "id": "d7700eb4",
   "metadata": {},
   "outputs": [
    {
     "name": "stdout",
     "output_type": "stream",
     "text": [
      "1/1 [==============================] - 0s 250ms/step\n"
     ]
    },
    {
     "data": {
      "text/plain": [
       "array([[0.12536998, 0.2521659 , 0.11858758, 0.0545877 , 0.04956969,\n",
       "        0.0125859 , 0.00669941, 0.35090202, 0.01257842, 0.01695332]],\n",
       "      dtype=float32)"
      ]
     },
     "execution_count": 3,
     "metadata": {},
     "output_type": "execute_result"
    }
   ],
   "source": [
    "class CustomModel(tf.keras.Model):\n",
    "    \n",
    "    def __init__(self):\n",
    "        super(CustomModel, self).__init__()\n",
    "        self.first_layer = tf.keras.layers.Dense(64, activation = \"relu\", name = \"first_layer\")\n",
    "        self.output_layer = tf.keras.layers.Dense(10, activation = \"softmax\", name = \"output_layer\")\n",
    "        \n",
    "    def call(self, x):\n",
    "        prev = self.first_layer(x)\n",
    "        out = self.output_layer(prev)\n",
    "        \n",
    "        return out\n",
    "\n",
    "model = CustomModel()\n",
    "model.predict(images[0:1])"
   ]
  }
 ],
 "metadata": {
  "kernelspec": {
   "display_name": "Python 3 (ipykernel)",
   "language": "python",
   "name": "python3"
  },
  "language_info": {
   "codemirror_mode": {
    "name": "ipython",
    "version": 3
   },
   "file_extension": ".py",
   "mimetype": "text/x-python",
   "name": "python",
   "nbconvert_exporter": "python",
   "pygments_lexer": "ipython3",
   "version": "3.9.13"
  }
 },
 "nbformat": 4,
 "nbformat_minor": 5
}
