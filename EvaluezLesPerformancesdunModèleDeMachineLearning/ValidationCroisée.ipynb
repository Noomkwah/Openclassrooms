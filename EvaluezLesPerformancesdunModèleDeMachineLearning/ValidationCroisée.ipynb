{
 "cells": [
  {
   "cell_type": "markdown",
   "id": "58306330",
   "metadata": {},
   "source": [
    "Le but de cette activité est de réimplémenter une fonction de validation croisée."
   ]
  },
  {
   "cell_type": "markdown",
   "id": "a88d97d5",
   "metadata": {},
   "source": [
    "On veut CrossValidation(model, hyperparameters, n_folds, scoring=\"accuracy\")"
   ]
  },
  {
   "cell_type": "code",
   "execution_count": 100,
   "id": "1cf41b0b",
   "metadata": {},
   "outputs": [],
   "source": [
    "import pandas as pd\n",
    "import numpy as np\n",
    "\n",
    "from sklearn import metrics"
   ]
  },
  {
   "cell_type": "code",
   "execution_count": 4,
   "id": "c8880abc",
   "metadata": {},
   "outputs": [
    {
     "data": {
      "text/plain": [
       "2"
      ]
     },
     "execution_count": 4,
     "metadata": {},
     "output_type": "execute_result"
    }
   ],
   "source": [
    "27//10"
   ]
  },
  {
   "cell_type": "code",
   "execution_count": 14,
   "id": "de6499e3",
   "metadata": {},
   "outputs": [
    {
     "data": {
      "text/plain": [
       "array([[0, 0],\n",
       "       [1, 1],\n",
       "       [2, 2],\n",
       "       [3, 3],\n",
       "       [4, 4],\n",
       "       [5, 5],\n",
       "       [6, 6],\n",
       "       [7, 7],\n",
       "       [8, 8],\n",
       "       [9, 9]])"
      ]
     },
     "execution_count": 14,
     "metadata": {},
     "output_type": "execute_result"
    }
   ],
   "source": [
    "X = np.array([range(10), range(10)]).T\n",
    "X[0:15, :]"
   ]
  },
  {
   "cell_type": "code",
   "execution_count": 99,
   "id": "0804f373",
   "metadata": {},
   "outputs": [
    {
     "name": "stdout",
     "output_type": "stream",
     "text": [
      "[0, 3, 6, 9]\n",
      "0 3\n",
      "[[3 3]\n",
      " [4 4]\n",
      " [5 5]\n",
      " [6 6]\n",
      " [7 7]\n",
      " [8 8]\n",
      " [9 9]] [[0 0]\n",
      " [1 1]\n",
      " [2 2]]\n",
      "\n",
      "\n",
      "3 6\n",
      "[[0 0]\n",
      " [1 1]\n",
      " [2 2]\n",
      " [6 6]\n",
      " [7 7]\n",
      " [8 8]\n",
      " [9 9]] [[3 3]\n",
      " [4 4]\n",
      " [5 5]]\n",
      "\n",
      "\n",
      "6 9\n",
      "[[0 0]\n",
      " [1 1]\n",
      " [2 2]\n",
      " [3 3]\n",
      " [4 4]\n",
      " [5 5]\n",
      " [9 9]] [[6 6]\n",
      " [7 7]\n",
      " [8 8]]\n",
      "\n",
      "\n",
      "9 -1\n",
      "[[0 0]\n",
      " [1 1]\n",
      " [2 2]\n",
      " [3 3]\n",
      " [4 4]\n",
      " [5 5]\n",
      " [6 6]\n",
      " [7 7]\n",
      " [8 8]] [[9 9]]\n",
      "\n",
      "\n"
     ]
    }
   ],
   "source": [
    "class CrossValidation:\n",
    "    def __init__(self, model, hyperparameters, n_folds=4, scoring=\"accuracy\"):\n",
    "        self.model = model\n",
    "        self.hyperparameters = hyperparameters\n",
    "        self.n_folds = n_folds\n",
    "        self.scoring = scoring\n",
    "        self.folds_index = self.__create_folds__(X)\n",
    "        print(self.folds_index)\n",
    "    \n",
    "    def __create_folds__(self, X_or_y):\n",
    "        # On veut séparer X en n_folds blocs.\n",
    "        n = X_or_y.shape[0]\n",
    "        q = n//self.n_folds+1\n",
    "        folds = [i*q for i in range(self.n_folds)]\n",
    "        \n",
    "        return folds\n",
    "    \n",
    "    def fit(self, X, y):\n",
    "        # Pour chaque bloc, on considère le reste du jeu de données et on entraîne notre modèle dessus.\n",
    "        # Ensuite on teste notre modèle sur le bloc, et on garde en mémoire le score.\n",
    "        for k in range(self.n_folds):\n",
    "            i = self.folds_index[k]\n",
    "            try:\n",
    "                next_i = self.folds_index[(k+1)]\n",
    "            except:\n",
    "                next_i = -1\n",
    "            \n",
    "            if next_i != -1:\n",
    "                X_train = np.concatenate((X[:i, :], X[next_i:, :]))\n",
    "                X_test = X[i:next_i, :]\n",
    "                y_train = np.concatenate((y[:i], y[next_i:]))\n",
    "                y_test = y[i:next_i]\n",
    "            else:\n",
    "                X_train = X[:i, :]\n",
    "                X_test = X[i:, :]\n",
    "                y_train = y[:i]\n",
    "                y_test = y[i:]\n",
    "            \n",
    "            # On s'occupe maintenant de train nos modèles\n",
    "            model.fit(X_train, y_train)\n",
    "            y_pred = model.predict(X_test)\n",
    "            # A TERMINER.\n",
    "    \n",
    "cv = CrossValidation(None, None, n_folds = 4)\n",
    "cv.fit(np.array([range(10), range(10)]).T, np.array(range(10)))"
   ]
  },
  {
   "cell_type": "code",
   "execution_count": 45,
   "id": "b7e0a0d7",
   "metadata": {},
   "outputs": [
    {
     "data": {
      "text/plain": [
       "(10, 2)"
      ]
     },
     "execution_count": 45,
     "metadata": {},
     "output_type": "execute_result"
    }
   ],
   "source": [
    "np.array([range(10), range(10)]).T.shape"
   ]
  },
  {
   "cell_type": "code",
   "execution_count": 94,
   "id": "a79ad61f",
   "metadata": {},
   "outputs": [
    {
     "data": {
      "text/plain": [
       "2"
      ]
     },
     "execution_count": 94,
     "metadata": {},
     "output_type": "execute_result"
    }
   ],
   "source": [
    "10//4"
   ]
  }
 ],
 "metadata": {
  "kernelspec": {
   "display_name": "Python 3 (ipykernel)",
   "language": "python",
   "name": "python3"
  },
  "language_info": {
   "codemirror_mode": {
    "name": "ipython",
    "version": 3
   },
   "file_extension": ".py",
   "mimetype": "text/x-python",
   "name": "python",
   "nbconvert_exporter": "python",
   "pygments_lexer": "ipython3",
   "version": "3.9.13"
  }
 },
 "nbformat": 4,
 "nbformat_minor": 5
}
