{
 "cells": [
  {
   "cell_type": "code",
   "execution_count": 1,
   "id": "0501b24c",
   "metadata": {},
   "outputs": [],
   "source": [
    "import numpy as np\n",
    "import pandas as pd"
   ]
  },
  {
   "cell_type": "code",
   "execution_count": 3,
   "id": "c08b915f",
   "metadata": {},
   "outputs": [
    {
     "data": {
      "text/html": [
       "<div>\n",
       "<style scoped>\n",
       "    .dataframe tbody tr th:only-of-type {\n",
       "        vertical-align: middle;\n",
       "    }\n",
       "\n",
       "    .dataframe tbody tr th {\n",
       "        vertical-align: top;\n",
       "    }\n",
       "\n",
       "    .dataframe thead th {\n",
       "        text-align: right;\n",
       "    }\n",
       "</style>\n",
       "<table border=\"1\" class=\"dataframe\">\n",
       "  <thead>\n",
       "    <tr style=\"text-align: right;\">\n",
       "      <th></th>\n",
       "      <th>fixed acidity</th>\n",
       "      <th>volatile acidity</th>\n",
       "      <th>citric acid</th>\n",
       "      <th>residual sugar</th>\n",
       "      <th>chlorides</th>\n",
       "      <th>free sulfur dioxide</th>\n",
       "      <th>total sulfur dioxide</th>\n",
       "      <th>density</th>\n",
       "      <th>pH</th>\n",
       "      <th>sulphates</th>\n",
       "      <th>alcohol</th>\n",
       "      <th>quality</th>\n",
       "    </tr>\n",
       "  </thead>\n",
       "  <tbody>\n",
       "    <tr>\n",
       "      <th>0</th>\n",
       "      <td>7.0</td>\n",
       "      <td>0.27</td>\n",
       "      <td>0.36</td>\n",
       "      <td>20.7</td>\n",
       "      <td>0.045</td>\n",
       "      <td>45.0</td>\n",
       "      <td>170.0</td>\n",
       "      <td>1.0010</td>\n",
       "      <td>3.00</td>\n",
       "      <td>0.45</td>\n",
       "      <td>8.8</td>\n",
       "      <td>6</td>\n",
       "    </tr>\n",
       "    <tr>\n",
       "      <th>1</th>\n",
       "      <td>6.3</td>\n",
       "      <td>0.30</td>\n",
       "      <td>0.34</td>\n",
       "      <td>1.6</td>\n",
       "      <td>0.049</td>\n",
       "      <td>14.0</td>\n",
       "      <td>132.0</td>\n",
       "      <td>0.9940</td>\n",
       "      <td>3.30</td>\n",
       "      <td>0.49</td>\n",
       "      <td>9.5</td>\n",
       "      <td>6</td>\n",
       "    </tr>\n",
       "    <tr>\n",
       "      <th>2</th>\n",
       "      <td>8.1</td>\n",
       "      <td>0.28</td>\n",
       "      <td>0.40</td>\n",
       "      <td>6.9</td>\n",
       "      <td>0.050</td>\n",
       "      <td>30.0</td>\n",
       "      <td>97.0</td>\n",
       "      <td>0.9951</td>\n",
       "      <td>3.26</td>\n",
       "      <td>0.44</td>\n",
       "      <td>10.1</td>\n",
       "      <td>6</td>\n",
       "    </tr>\n",
       "    <tr>\n",
       "      <th>3</th>\n",
       "      <td>7.2</td>\n",
       "      <td>0.23</td>\n",
       "      <td>0.32</td>\n",
       "      <td>8.5</td>\n",
       "      <td>0.058</td>\n",
       "      <td>47.0</td>\n",
       "      <td>186.0</td>\n",
       "      <td>0.9956</td>\n",
       "      <td>3.19</td>\n",
       "      <td>0.40</td>\n",
       "      <td>9.9</td>\n",
       "      <td>6</td>\n",
       "    </tr>\n",
       "    <tr>\n",
       "      <th>4</th>\n",
       "      <td>7.2</td>\n",
       "      <td>0.23</td>\n",
       "      <td>0.32</td>\n",
       "      <td>8.5</td>\n",
       "      <td>0.058</td>\n",
       "      <td>47.0</td>\n",
       "      <td>186.0</td>\n",
       "      <td>0.9956</td>\n",
       "      <td>3.19</td>\n",
       "      <td>0.40</td>\n",
       "      <td>9.9</td>\n",
       "      <td>6</td>\n",
       "    </tr>\n",
       "  </tbody>\n",
       "</table>\n",
       "</div>"
      ],
      "text/plain": [
       "   fixed acidity  volatile acidity  citric acid  residual sugar  chlorides  \\\n",
       "0            7.0              0.27         0.36            20.7      0.045   \n",
       "1            6.3              0.30         0.34             1.6      0.049   \n",
       "2            8.1              0.28         0.40             6.9      0.050   \n",
       "3            7.2              0.23         0.32             8.5      0.058   \n",
       "4            7.2              0.23         0.32             8.5      0.058   \n",
       "\n",
       "   free sulfur dioxide  total sulfur dioxide  density    pH  sulphates  \\\n",
       "0                 45.0                 170.0   1.0010  3.00       0.45   \n",
       "1                 14.0                 132.0   0.9940  3.30       0.49   \n",
       "2                 30.0                  97.0   0.9951  3.26       0.44   \n",
       "3                 47.0                 186.0   0.9956  3.19       0.40   \n",
       "4                 47.0                 186.0   0.9956  3.19       0.40   \n",
       "\n",
       "   alcohol  quality  \n",
       "0      8.8        6  \n",
       "1      9.5        6  \n",
       "2     10.1        6  \n",
       "3      9.9        6  \n",
       "4      9.9        6  "
      ]
     },
     "execution_count": 3,
     "metadata": {},
     "output_type": "execute_result"
    }
   ],
   "source": [
    "data = pd.read_csv(\"winequality_white.csv\", sep=\";\")\n",
    "data.head()"
   ]
  },
  {
   "cell_type": "code",
   "execution_count": 5,
   "id": "a0a6bca2",
   "metadata": {},
   "outputs": [],
   "source": [
    "X = data[data.columns[:-1]].values\n",
    "y = data[\"quality\"].values"
   ]
  },
  {
   "cell_type": "markdown",
   "id": "3a09f360",
   "metadata": {},
   "source": [
    "On a importé nos données. Séparons-les en deux jeux : le jeu d'dentraînement et le jeu de test."
   ]
  },
  {
   "cell_type": "code",
   "execution_count": 20,
   "id": "556bf04f",
   "metadata": {},
   "outputs": [],
   "source": [
    "from sklearn.model_selection import train_test_split\n",
    "Xtrain, Xtest, ytrain, ytest = train_test_split(X, y, train_size=0.7)"
   ]
  },
  {
   "cell_type": "markdown",
   "id": "ea87d9b6",
   "metadata": {},
   "source": [
    "Standardisons les données."
   ]
  },
  {
   "cell_type": "code",
   "execution_count": 21,
   "id": "aa1886f6",
   "metadata": {},
   "outputs": [],
   "source": [
    "from sklearn.preprocessing import StandardScaler\n",
    "scaler = StandardScaler().fit(Xtrain)\n",
    "Xtrain_scaled = scaler.transform(Xtrain)\n",
    "Xtest_scaled = scaler.transform(Xtest)"
   ]
  },
  {
   "cell_type": "markdown",
   "id": "99fa8a43",
   "metadata": {},
   "source": [
    "Entraînons un 11-NN sur ces données."
   ]
  },
  {
   "cell_type": "code",
   "execution_count": 22,
   "id": "4395de24",
   "metadata": {},
   "outputs": [],
   "source": [
    "from sklearn.neighbors import KNeighborsRegressor\n",
    "kNN = KNeighborsRegressor(n_neighbors=11).fit(Xtrain_scaled, ytrain)"
   ]
  },
  {
   "cell_type": "markdown",
   "id": "ba61f6dc",
   "metadata": {},
   "source": [
    "Appliquons-le pour prédire les étiquettes de notre jeu de test."
   ]
  },
  {
   "cell_type": "code",
   "execution_count": 23,
   "id": "3d565e8d",
   "metadata": {},
   "outputs": [],
   "source": [
    "ypred = kNN.predict(Xtest_scaled)"
   ]
  },
  {
   "cell_type": "markdown",
   "id": "b8892937",
   "metadata": {},
   "source": [
    "Calculons la Root Mean Squared Error."
   ]
  },
  {
   "cell_type": "code",
   "execution_count": 25,
   "id": "cc9b2d4d",
   "metadata": {},
   "outputs": [
    {
     "name": "stdout",
     "output_type": "stream",
     "text": [
      "RMSE = 0.72\n"
     ]
    }
   ],
   "source": [
    "from sklearn.metrics import mean_squared_error\n",
    "print(\"RMSE = %.02f\" % np.sqrt(mean_squared_error(ypred, ytest)))"
   ]
  },
  {
   "cell_type": "markdown",
   "id": "73a92a61",
   "metadata": {},
   "source": [
    "Nos étiquettes étant des nombres entiers, nous faisons en moyenne une erreur inférieure à la plus petite différence possible entre deux notes.\n",
    "\n",
    "Nous pouvons visualiser les résultats à travers un graphique, avec en abscisse les vraies valeurs et en ordonnée les valeurs prédites."
   ]
  },
  {
   "cell_type": "code",
   "execution_count": 30,
   "id": "bae04382",
   "metadata": {},
   "outputs": [
    {
     "data": {
      "image/png": "[encoded data removed]",
      "text/plain": [
       "<Figure size 640x480 with 1 Axes>"
      ]
     },
     "metadata": {},
     "output_type": "display_data"
    }
   ],
   "source": [
    "import matplotlib.pyplot as plt\n",
    "plt.scatter(ytest, ypred, color ='coral')\n",
    "plt.show()"
   ]
  },
  {
   "cell_type": "markdown",
   "id": "9030d8d2",
   "metadata": {},
   "source": [
    "Hmm... On ne voit pas grand-chose. On va modifier le graphique pour que chaque point soit de taille proportionnelle au nombre d'étiquettes représentées."
   ]
  },
  {
   "cell_type": "code",
   "execution_count": 33,
   "id": "c27ab3ac",
   "metadata": {},
   "outputs": [
    {
     "data": {
      "image/png": "[encoded data removed]",
      "text/plain": [
       "<Figure size 640x480 with 1 Axes>"
      ]
     },
     "metadata": {},
     "output_type": "display_data"
    }
   ],
   "source": [
    "sizes = {}\n",
    "for (yt, yp) in zip(ytest, ypred):\n",
    "    if (yt, yp) in sizes:\n",
    "        sizes[(yt, yp)] += 1\n",
    "        \n",
    "    else:\n",
    "        sizes[(yt, yp)] = 1\n",
    "\n",
    "keys = sizes.keys()\n",
    "plt.scatter(\n",
    "        [k[0] for k in keys], # Vraie valeur\n",
    "        [k[1] for k in keys], # Valeur prédite\n",
    "        s = [sizes[k] for k in keys], # Taille du marker\n",
    "        color = 'coral', # Couleur\n",
    "        alpha = 0.8) # Transparence\n",
    "\n",
    "plt.xlabel(\"Vraies valeurs\")\n",
    "plt.ylabel(\"Valeurs prédites\")\n",
    "plt.show()"
   ]
  },
  {
   "cell_type": "markdown",
   "id": "c3c3a04e",
   "metadata": {},
   "source": [
    "Pour mieux comprendre notre modèle, comparons-le avec une première approche naïve, qui consiste à prédire une valeur aléatoire entre le min et le max des y observés."
   ]
  },
  {
   "cell_type": "code",
   "execution_count": 34,
   "id": "6d12d3cd",
   "metadata": {},
   "outputs": [],
   "source": [
    "y_pred_random = np.random.randint(np.min(ytrain), np.max(ytrain), ytest.shape)"
   ]
  },
  {
   "cell_type": "markdown",
   "id": "34bd5595",
   "metadata": {},
   "source": [
    "Calculons la RMSE correspondante."
   ]
  },
  {
   "cell_type": "code",
   "execution_count": 35,
   "id": "5e860726",
   "metadata": {},
   "outputs": [
    {
     "name": "stdout",
     "output_type": "stream",
     "text": [
      "RMSE naïve = 1.98\n"
     ]
    }
   ],
   "source": [
    "print(\"RMSE naïve = %.02f\" % np.sqrt(mean_squared_error(y_pred_random, ytest)))"
   ]
  },
  {
   "cell_type": "markdown",
   "id": "795b1735",
   "metadata": {},
   "source": [
    "C'est bien supérieur à ce qu'avait obtenu notre 11-NN. Notre modèle était donc mieux que le pure aléatoire. Chouette.\n",
    "\n",
    "Une autre approche possible, c'est de regarder la moyenne des qualités et de considérer l'algorithme naïf qui renvoie cette moyenne."
   ]
  },
  {
   "cell_type": "code",
   "execution_count": 36,
   "id": "97d874f3",
   "metadata": {},
   "outputs": [
    {
     "data": {
      "text/plain": [
       "count    4898.000000\n",
       "mean        5.877909\n",
       "std         0.885639\n",
       "min         3.000000\n",
       "25%         5.000000\n",
       "50%         6.000000\n",
       "75%         6.000000\n",
       "max         9.000000\n",
       "Name: quality, dtype: float64"
      ]
     },
     "execution_count": 36,
     "metadata": {},
     "output_type": "execute_result"
    }
   ],
   "source": [
    "data[\"quality\"].describe()"
   ]
  },
  {
   "cell_type": "markdown",
   "id": "219b964f",
   "metadata": {},
   "source": [
    "Il existe en fait une fonction directement implémenter dans scikit-learn qui permet d'implémenter un tel algorithme."
   ]
  },
  {
   "cell_type": "code",
   "execution_count": 38,
   "id": "648f7d95",
   "metadata": {},
   "outputs": [
    {
     "name": "stdout",
     "output_type": "stream",
     "text": [
      "RMSE de la mean-strategy = 0.89\n"
     ]
    }
   ],
   "source": [
    "from sklearn.dummy import DummyRegressor\n",
    "dum = DummyRegressor(strategy = \"mean\")\n",
    "dum.fit(Xtrain_scaled, ytrain)\n",
    "\n",
    "ypred_dummy = dum.predict(Xtest_scaled)\n",
    "\n",
    "print(\"RMSE de la mean-strategy = %.02f\" % np.sqrt(mean_squared_error(ypred_dummy, ytest)))"
   ]
  },
  {
   "cell_type": "markdown",
   "id": "0bef26ef",
   "metadata": {},
   "source": [
    "0.89 > 0.72, donc le 11-NN est meilleur que la mean strategy. Cependant, il faut quand même concéder que notre modèle n'est pas si fort que ça."
   ]
  }
 ],
 "metadata": {
  "kernelspec": {
   "display_name": "Python 3 (ipykernel)",
   "language": "python",
   "name": "python3"
  },
  "language_info": {
   "codemirror_mode": {
    "name": "ipython",
    "version": 3
   },
   "file_extension": ".py",
   "mimetype": "text/x-python",
   "name": "python",
   "nbconvert_exporter": "python",
   "pygments_lexer": "ipython3",
   "version": "3.9.13"
  }
 },
 "nbformat": 4,
 "nbformat_minor": 5
}
