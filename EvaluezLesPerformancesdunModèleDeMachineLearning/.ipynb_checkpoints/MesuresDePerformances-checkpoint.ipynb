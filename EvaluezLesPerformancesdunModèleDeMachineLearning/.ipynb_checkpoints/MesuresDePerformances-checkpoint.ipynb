{
 "cells": [
  {
   "cell_type": "code",
   "execution_count": 5,
   "id": "5c1eea49",
   "metadata": {},
   "outputs": [],
   "source": [
    "def metrics(TP, FN, FP, TN):\n",
    "    recall = TP/(TP+FN)\n",
    "    precision = TP/(TP+FP)\n",
    "    specificity = TN/(TN+FP)\n",
    "    \n",
    "    print(\"recall = %f\" % recall)\n",
    "    print(\"precision = %f\" % precision)\n",
    "    print(\"specificity = %f\" % specificity)"
   ]
  },
  {
   "cell_type": "code",
   "execution_count": 6,
   "id": "9c545993",
   "metadata": {},
   "outputs": [
    {
     "name": "stdout",
     "output_type": "stream",
     "text": [
      "recall = 0.960000\n",
      "precision = 1.000000\n",
      "specificity = 1.000000\n"
     ]
    }
   ],
   "source": [
    "metrics(96, 4, 0, 100)"
   ]
  },
  {
   "cell_type": "code",
   "execution_count": 7,
   "id": "7b6e5a1b",
   "metadata": {},
   "outputs": [
    {
     "name": "stdout",
     "output_type": "stream",
     "text": [
      "recall = 1.000000\n",
      "precision = 0.970874\n",
      "specificity = 0.970000\n"
     ]
    }
   ],
   "source": [
    "metrics(100, 0, 3, 97)"
   ]
  }
 ],
 "metadata": {
  "kernelspec": {
   "display_name": "Python 3 (ipykernel)",
   "language": "python",
   "name": "python3"
  },
  "language_info": {
   "codemirror_mode": {
    "name": "ipython",
    "version": 3
   },
   "file_extension": ".py",
   "mimetype": "text/x-python",
   "name": "python",
   "nbconvert_exporter": "python",
   "pygments_lexer": "ipython3",
   "version": "3.9.13"
  }
 },
 "nbformat": 4,
 "nbformat_minor": 5
}
