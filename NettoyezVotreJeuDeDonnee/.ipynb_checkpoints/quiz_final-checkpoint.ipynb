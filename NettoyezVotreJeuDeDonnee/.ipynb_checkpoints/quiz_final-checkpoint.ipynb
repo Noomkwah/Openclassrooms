{
 "cells": [
  {
   "cell_type": "code",
   "execution_count": 1,
   "id": "a5516c14",
   "metadata": {},
   "outputs": [],
   "source": [
    "import numpy as np\n",
    "import pandas as pd\n",
    "import datetime as dt\n",
    "\n",
    "import matplotlib.pyplot as plt\n",
    "import seaborn as sns\n",
    "\n",
    "from sklearn.linear_model import LinearRegression"
   ]
  },
  {
   "cell_type": "code",
   "execution_count": 19,
   "id": "7acbde9e",
   "metadata": {},
   "outputs": [
    {
     "data": {
      "text/html": [
       "<div>\n",
       "<style scoped>\n",
       "    .dataframe tbody tr th:only-of-type {\n",
       "        vertical-align: middle;\n",
       "    }\n",
       "\n",
       "    .dataframe tbody tr th {\n",
       "        vertical-align: top;\n",
       "    }\n",
       "\n",
       "    .dataframe thead th {\n",
       "        text-align: right;\n",
       "    }\n",
       "</style>\n",
       "<table border=\"1\" class=\"dataframe\">\n",
       "  <thead>\n",
       "    <tr style=\"text-align: right;\">\n",
       "      <th></th>\n",
       "      <th>Position</th>\n",
       "      <th>Sexe</th>\n",
       "      <th>Temps</th>\n",
       "      <th>Dept</th>\n",
       "      <th>Temps_secondes</th>\n",
       "      <th>Age</th>\n",
       "    </tr>\n",
       "  </thead>\n",
       "  <tbody>\n",
       "    <tr>\n",
       "      <th>0</th>\n",
       "      <td>1</td>\n",
       "      <td>M</td>\n",
       "      <td>00:32:23</td>\n",
       "      <td>76</td>\n",
       "      <td>1643543</td>\n",
       "      <td>40</td>\n",
       "    </tr>\n",
       "    <tr>\n",
       "      <th>1</th>\n",
       "      <td>2</td>\n",
       "      <td>M</td>\n",
       "      <td>00:32:40</td>\n",
       "      <td>27</td>\n",
       "      <td>1643560</td>\n",
       "      <td>34</td>\n",
       "    </tr>\n",
       "    <tr>\n",
       "      <th>2</th>\n",
       "      <td>3</td>\n",
       "      <td>M</td>\n",
       "      <td>00:33:15</td>\n",
       "      <td>76</td>\n",
       "      <td>1643595</td>\n",
       "      <td>44</td>\n",
       "    </tr>\n",
       "    <tr>\n",
       "      <th>3</th>\n",
       "      <td>4</td>\n",
       "      <td>M</td>\n",
       "      <td>00:33:23</td>\n",
       "      <td>76</td>\n",
       "      <td>1643603</td>\n",
       "      <td>46</td>\n",
       "    </tr>\n",
       "    <tr>\n",
       "      <th>4</th>\n",
       "      <td>5</td>\n",
       "      <td>M</td>\n",
       "      <td>00:33:29</td>\n",
       "      <td>76</td>\n",
       "      <td>1643609</td>\n",
       "      <td>26</td>\n",
       "    </tr>\n",
       "    <tr>\n",
       "      <th>5</th>\n",
       "      <td>6</td>\n",
       "      <td>M</td>\n",
       "      <td>00:33:34</td>\n",
       "      <td>76</td>\n",
       "      <td>1643614</td>\n",
       "      <td>22</td>\n",
       "    </tr>\n",
       "    <tr>\n",
       "      <th>6</th>\n",
       "      <td>7</td>\n",
       "      <td>M</td>\n",
       "      <td>00:33:39</td>\n",
       "      <td>76</td>\n",
       "      <td>1643619</td>\n",
       "      <td>34</td>\n",
       "    </tr>\n",
       "    <tr>\n",
       "      <th>7</th>\n",
       "      <td>8</td>\n",
       "      <td>M</td>\n",
       "      <td>00:33:41</td>\n",
       "      <td>27</td>\n",
       "      <td>1643621</td>\n",
       "      <td>37</td>\n",
       "    </tr>\n",
       "    <tr>\n",
       "      <th>8</th>\n",
       "      <td>9</td>\n",
       "      <td>M</td>\n",
       "      <td>00:33:44</td>\n",
       "      <td>76</td>\n",
       "      <td>1643624</td>\n",
       "      <td>25</td>\n",
       "    </tr>\n",
       "    <tr>\n",
       "      <th>9</th>\n",
       "      <td>10</td>\n",
       "      <td>M</td>\n",
       "      <td>00:34:16</td>\n",
       "      <td>76</td>\n",
       "      <td>1643656</td>\n",
       "      <td>48</td>\n",
       "    </tr>\n",
       "  </tbody>\n",
       "</table>\n",
       "</div>"
      ],
      "text/plain": [
       "   Position Sexe     Temps  Dept  Temps_secondes  Age\n",
       "0         1    M  00:32:23    76         1643543   40\n",
       "1         2    M  00:32:40    27         1643560   34\n",
       "2         3    M  00:33:15    76         1643595   44\n",
       "3         4    M  00:33:23    76         1643603   46\n",
       "4         5    M  00:33:29    76         1643609   26\n",
       "5         6    M  00:33:34    76         1643614   22\n",
       "6         7    M  00:33:39    76         1643619   34\n",
       "7         8    M  00:33:41    27         1643621   37\n",
       "8         9    M  00:33:44    76         1643624   25\n",
       "9        10    M  00:34:16    76         1643656   48"
      ]
     },
     "execution_count": 19,
     "metadata": {},
     "output_type": "execute_result"
    }
   ],
   "source": [
    "course = pd.read_csv(\"Quiz4.csv\")\n",
    "course.head(10)"
   ]
  },
  {
   "cell_type": "code",
   "execution_count": 11,
   "id": "852ce94a",
   "metadata": {},
   "outputs": [
    {
     "data": {
      "text/html": [
       "<div>\n",
       "<style scoped>\n",
       "    .dataframe tbody tr th:only-of-type {\n",
       "        vertical-align: middle;\n",
       "    }\n",
       "\n",
       "    .dataframe tbody tr th {\n",
       "        vertical-align: top;\n",
       "    }\n",
       "\n",
       "    .dataframe thead th {\n",
       "        text-align: right;\n",
       "    }\n",
       "</style>\n",
       "<table border=\"1\" class=\"dataframe\">\n",
       "  <thead>\n",
       "    <tr style=\"text-align: right;\">\n",
       "      <th></th>\n",
       "      <th>Position</th>\n",
       "      <th>Age</th>\n",
       "    </tr>\n",
       "  </thead>\n",
       "  <tbody>\n",
       "    <tr>\n",
       "      <th>Position</th>\n",
       "      <td>1.000000</td>\n",
       "      <td>0.106065</td>\n",
       "    </tr>\n",
       "    <tr>\n",
       "      <th>Age</th>\n",
       "      <td>0.106065</td>\n",
       "      <td>1.000000</td>\n",
       "    </tr>\n",
       "  </tbody>\n",
       "</table>\n",
       "</div>"
      ],
      "text/plain": [
       "          Position       Age\n",
       "Position  1.000000  0.106065\n",
       "Age       0.106065  1.000000"
      ]
     },
     "execution_count": 11,
     "metadata": {},
     "output_type": "execute_result"
    }
   ],
   "source": [
    "# Question 1\n",
    "course[[\"Position\", \"Age\"]].corr()"
   ]
  },
  {
   "cell_type": "code",
   "execution_count": 41,
   "id": "8a468619",
   "metadata": {},
   "outputs": [
    {
     "data": {
      "text/html": [
       "<div>\n",
       "<style scoped>\n",
       "    .dataframe tbody tr th:only-of-type {\n",
       "        vertical-align: middle;\n",
       "    }\n",
       "\n",
       "    .dataframe tbody tr th {\n",
       "        vertical-align: top;\n",
       "    }\n",
       "\n",
       "    .dataframe thead th {\n",
       "        text-align: right;\n",
       "    }\n",
       "</style>\n",
       "<table border=\"1\" class=\"dataframe\">\n",
       "  <thead>\n",
       "    <tr style=\"text-align: right;\">\n",
       "      <th></th>\n",
       "      <th>Position</th>\n",
       "      <th>tranche_age</th>\n",
       "    </tr>\n",
       "  </thead>\n",
       "  <tbody>\n",
       "    <tr>\n",
       "      <th>Position</th>\n",
       "      <td>1.00000</td>\n",
       "      <td>0.10508</td>\n",
       "    </tr>\n",
       "    <tr>\n",
       "      <th>tranche_age</th>\n",
       "      <td>0.10508</td>\n",
       "      <td>1.00000</td>\n",
       "    </tr>\n",
       "  </tbody>\n",
       "</table>\n",
       "</div>"
      ],
      "text/plain": [
       "             Position  tranche_age\n",
       "Position      1.00000      0.10508\n",
       "tranche_age   0.10508      1.00000"
      ]
     },
     "execution_count": 41,
     "metadata": {},
     "output_type": "execute_result"
    }
   ],
   "source": [
    "# Question 2\n",
    "tranches = np.arange(course.Age.min(), course.Age.max(), 10)\n",
    "tranches = tranches + 5 # On centre les classes\n",
    "indices = np.digitize(course[\"Age\"], tranches)-1\n",
    "course[\"tranche_age\"] = indices\n",
    "course[[\"Position\", \"tranche_age\"]].corr()"
   ]
  },
  {
   "cell_type": "code",
   "execution_count": 43,
   "id": "5fd2473b",
   "metadata": {},
   "outputs": [
    {
     "name": "stdout",
     "output_type": "stream",
     "text": [
      "[0.86217662] 134.3316908135567 0.0112497648608757\n"
     ]
    }
   ],
   "source": [
    "# Question 3\n",
    "regr = LinearRegression()\n",
    "regr.fit(course[[\"Age\"]], course[\"Position\"])\n",
    "print(regr.coef_, regr.intercept_, regr.score(course[[\"Age\"]], course[\"Position\"]))"
   ]
  },
  {
   "cell_type": "code",
   "execution_count": 92,
   "id": "5b8fc0d5",
   "metadata": {},
   "outputs": [
    {
     "data": {
      "text/plain": [
       "0.20400517398334242"
      ]
     },
     "execution_count": 92,
     "metadata": {},
     "output_type": "execute_result"
    }
   ],
   "source": [
    "# Question 5\n",
    "data = course[[\"Sexe\", \"Temps_secondes\"]].copy()\n",
    "\n",
    "# On réalise une ANOVA, avec Temps_secondes (Y) = alpha + mu + erreur, où alpha dépend de Temps_secondes\n",
    "mu = data[\"Temps_secondes\"].mean()\n",
    "alpha = data.groupby(\"Sexe\")[\"Temps_secondes\"].mean()-mu\n",
    "SCT = (data[\"Temps_secondes\"]-mu).apply(lambda x: x**2).sum()\n",
    "SCE = (data.groupby(\"Sexe\")[\"Temps_secondes\"].size()*(data.groupby(\"Sexe\")[\"Temps_secondes\"].mean()-mu).apply(lambda x: x**2)).sum()\n",
    "eta_squared = SCE/SCT\n",
    "eta_squared\n",
    "\n",
    "# On peut obtenir les deux en faisant : data.groupby(\"Sexe\").agg({\"Temps_secondes\": [\"size\", \"mean\"]})"
   ]
  },
  {
   "cell_type": "code",
   "execution_count": 90,
   "id": "6565bcf7",
   "metadata": {},
   "outputs": [
    {
     "data": {
      "text/plain": [
       "Sexe\n",
       "F    1.335453e+07\n",
       "M    4.954101e+06\n",
       "Name: Temps_secondes, dtype: float64"
      ]
     },
     "execution_count": 90,
     "metadata": {},
     "output_type": "execute_result"
    }
   ],
   "source": [
    "data.groupby(\"Sexe\")[\"Temps_secondes\"].size()*(data.groupby(\"Sexe\")[\"Temps_secondes\"].mean()-mu).apply(lambda x:x**2)\n"
   ]
  }
 ],
 "metadata": {
  "kernelspec": {
   "display_name": "Python 3 (ipykernel)",
   "language": "python",
   "name": "python3"
  },
  "language_info": {
   "codemirror_mode": {
    "name": "ipython",
    "version": 3
   },
   "file_extension": ".py",
   "mimetype": "text/x-python",
   "name": "python",
   "nbconvert_exporter": "python",
   "pygments_lexer": "ipython3",
   "version": "3.9.13"
  }
 },
 "nbformat": 4,
 "nbformat_minor": 5
}
